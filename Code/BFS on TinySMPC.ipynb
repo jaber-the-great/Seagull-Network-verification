{
 "cells": [
  {
   "cell_type": "code",
   "execution_count": 175,
   "id": "4f96059a",
   "metadata": {},
   "outputs": [],
   "source": [
    "from tinysmpc.tinysmpc.tinysmpc import VirtualMachine, PrivateScalar, SharedScalar\n",
    "from tinysmpc.tinysmpc.secret_sharing import Share\n",
    "from collections import defaultdict, deque"
   ]
  },
  {
   "cell_type": "code",
   "execution_count": 176,
   "id": "f96d2074",
   "metadata": {},
   "outputs": [],
   "source": [
    "def secure_bfs_cycle_detection_forwarding(edge_list, destination_node):\n",
    "\n",
    "    # Build a reversed adjacency list for the graph\n",
    "    tmp_vm = VirtualMachine('tmp_vm')\n",
    "    rev_adj_list = defaultdict(list)\n",
    "    incoming_count = defaultdict(int)\n",
    "\n",
    "    for u, v in edge_list:\n",
    "        rev_adj_list[v].append(u)\n",
    "        incoming_count[u] += 1\n",
    "\n",
    "    queue = [destination_node]\n",
    "    while queue:\n",
    "        current_node = queue.pop(0)\n",
    "\n",
    "        for neighbor in rev_adj_list[current_node]:\n",
    "            incoming_count[neighbor] -= 1\n",
    "            if incoming_count[neighbor] == 0:\n",
    "                queue.append(neighbor)\n",
    "\n",
    "    return PrivateScalar(int(any(incoming_count[node] > 0 for node in rev_adj_list)), tmp_vm)"
   ]
  },
  {
   "cell_type": "code",
   "execution_count": 177,
   "id": "8830f098",
   "metadata": {},
   "outputs": [],
   "source": [
    "edges = [\n",
    "    (1,2),\n",
    "    (2,3),\n",
    "    (3,1),\n",
    "    (3,4),\n",
    "]\n",
    "q = VirtualMachine(\"q\")\n",
    "n1 = VirtualMachine(\"n1\")\n",
    "n2 = VirtualMachine(\"n2\")\n",
    "n3 = VirtualMachine(\"n3\")\n",
    "n4 = VirtualMachine(\"n4\")\n",
    "v1 = PrivateScalar(1, n1)\n",
    "v2 = PrivateScalar(2, n2)\n",
    "v3 = PrivateScalar(3, n3)\n",
    "v4 = PrivateScalar(1, n4)"
   ]
  },
  {
   "cell_type": "code",
   "execution_count": 178,
   "id": "ce267dda",
   "metadata": {},
   "outputs": [],
   "source": [
    "s1 = v1.share([n1, n2, n3, n4])\n",
    "s2 = v2.share([n1, n2, n3, n4])\n",
    "s3 = v3.share([n1, n2, n3, n4])\n",
    "s4 = v4.share([n1, n2, n3, n4])"
   ]
  },
  {
   "cell_type": "code",
   "execution_count": 179,
   "id": "f9a7d0a6",
   "metadata": {},
   "outputs": [],
   "source": [
    "s_edges = [\n",
    "    (s1,s2),\n",
    "    (s2,s3),\n",
    "    (s3,s1),\n",
    "    (s3,s4),\n",
    "]"
   ]
  },
  {
   "cell_type": "code",
   "execution_count": 180,
   "id": "15b2cb18",
   "metadata": {},
   "outputs": [
    {
     "data": {
      "text/plain": [
       "PrivateScalar(1, 'q')"
      ]
     },
     "execution_count": 180,
     "metadata": {},
     "output_type": "execute_result"
    }
   ],
   "source": [
    "r_s = secure_bfs_cycle_detection_forwarding(s_edges, s4).share([n1, n2, n3, n4])\n",
    "r_s.reconstruct(q)"
   ]
  }
 ],
 "metadata": {
  "kernelspec": {
   "display_name": "scienceFair2021",
   "language": "python",
   "name": "sciencefair2021"
  },
  "language_info": {
   "codemirror_mode": {
    "name": "ipython",
    "version": 3
   },
   "file_extension": ".py",
   "mimetype": "text/x-python",
   "name": "python",
   "nbconvert_exporter": "python",
   "pygments_lexer": "ipython3",
   "version": "3.9.7"
  }
 },
 "nbformat": 4,
 "nbformat_minor": 5
}
