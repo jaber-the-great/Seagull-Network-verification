{
 "cells": [
  {
   "cell_type": "code",
   "execution_count": 1,
   "metadata": {},
   "outputs": [],
   "source": [
    "from tinysmpc import VirtualMachine, PrivateScalar, SharedScalar"
   ]
  },
  {
   "cell_type": "markdown",
   "metadata": {},
   "source": [
    "We add three parties among the ASes and the other parties are other ASes. The querie has a separate node too."
   ]
  },
  {
   "cell_type": "code",
   "execution_count": 28,
   "metadata": {},
   "outputs": [],
   "source": [
    "p1 = VirtualMachine('party 1')\n",
    "p2 = VirtualMachine('party 2')\n",
    "p3 = VirtualMachine('party 3')\n",
    "a4 = VirtualMachine('AS 4')\n",
    "a5 = VirtualMachine('AS 5')\n",
    "q = VirtualMachine('Querier')"
   ]
  },
  {
   "cell_type": "markdown",
   "metadata": {},
   "source": [
    "Assign value to each party, some value for having route(here 100) and some value for disconnectivity(here 50)"
   ]
  },
  {
   "cell_type": "code",
   "execution_count": 40,
   "metadata": {},
   "outputs": [],
   "source": [
    "a = PrivateScalar(100, p1)\n",
    "b = PrivateScalar(100, p2)\n",
    "c = PrivateScalar(100, p3)\n",
    "d = PrivateScalar(100, a4)\n",
    "e = PrivateScalar(50, a5)"
   ]
  },
  {
   "cell_type": "markdown",
   "metadata": {},
   "source": [
    "Each AS shares it's value among the 3 MPC parties"
   ]
  },
  {
   "cell_type": "code",
   "execution_count": 42,
   "metadata": {},
   "outputs": [],
   "source": [
    "shared_a = a.share([p1, p2, p3])\n",
    "shared_b = b.share([p1, p2, p3])\n",
    "shared_c = c.share([p1, p2, p3])\n",
    "shared_d = d.share([p1,p2,p3])\n",
    "shared_e = e.share([p1,p2,p3])"
   ]
  },
  {
   "cell_type": "markdown",
   "metadata": {},
   "source": [
    "If sum of shares is equal to NumberOfASes * 100 --> then we have reachability"
   ]
  },
  {
   "cell_type": "code",
   "execution_count": 43,
   "metadata": {},
   "outputs": [
    {
     "name": "stdout",
     "output_type": "stream",
     "text": [
      "some routers does not have reachability\n"
     ]
    }
   ],
   "source": [
    "shared_sum = shared_a + shared_b + shared_c + shared_d + shared_e\n",
    "if shared_sum.reconstruct(q).value ==500:\n",
    "    print(\"all the routers have reachability\")\n",
    "else:\n",
    "    print(\"some routers does not have reachability\")"
   ]
  }
 ],
 "metadata": {
  "kernelspec": {
   "display_name": "Python 3",
   "language": "python",
   "name": "python3"
  },
  "language_info": {
   "codemirror_mode": {
    "name": "ipython",
    "version": 3
   },
   "file_extension": ".py",
   "mimetype": "text/x-python",
   "name": "python",
   "nbconvert_exporter": "python",
   "pygments_lexer": "ipython3",
   "version": "3.8.3"
  }
 },
 "nbformat": 4,
 "nbformat_minor": 4
}
