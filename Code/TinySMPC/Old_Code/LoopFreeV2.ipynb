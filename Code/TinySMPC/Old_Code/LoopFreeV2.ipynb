{
 "cells": [
  {
   "cell_type": "code",
   "execution_count": 1,
   "metadata": {},
   "outputs": [],
   "source": [
    "from tinysmpc import VirtualMachine, PrivateScalar, SharedScalar\n",
    "from datetime import datetime"
   ]
  },
  {
   "cell_type": "raw",
   "metadata": {},
   "source": [
    "Create a dictionary for mapping routers with a unique ID"
   ]
  },
  {
   "cell_type": "code",
   "execution_count": 2,
   "metadata": {},
   "outputs": [],
   "source": [
    "IDs = {\"p1\": 123, \"p2\":456, \"p3\":789, \"a4\":111,\"a5\":222}\n",
    "mapping = [123,456,789,111,222]\n",
    "PrevVisited =[False,False,False,False,False]"
   ]
  },
  {
   "cell_type": "code",
   "execution_count": 3,
   "metadata": {},
   "outputs": [
    {
     "name": "stdout",
     "output_type": "stream",
     "text": [
      "Status codes: s suppressed, d damped, h history, * valid, > best, i - internal,\n",
      "\n"
     ]
    }
   ],
   "source": [
    "f = open(\"oix.dat\", \"r\")\n",
    "print(f.readline())"
   ]
  },
  {
   "cell_type": "code",
   "execution_count": 4,
   "metadata": {},
   "outputs": [],
   "source": [
    "x = f.readline()"
   ]
  },
  {
   "cell_type": "markdown",
   "metadata": {},
   "source": [
    "We add three parties among the ASes and the other parties are other ASes. The querie has a separate node too."
   ]
  },
  {
   "cell_type": "code",
   "execution_count": 5,
   "metadata": {},
   "outputs": [
    {
     "data": {
      "text/plain": [
       "'              r RIB-failure, S Stale\\n'"
      ]
     },
     "execution_count": 5,
     "metadata": {},
     "output_type": "execute_result"
    }
   ],
   "source": [
    "x"
   ]
  },
  {
   "cell_type": "code",
   "execution_count": 6,
   "metadata": {},
   "outputs": [
    {
     "data": {
      "text/plain": [
       "['r', 'RIB-failure,', 'S', 'Stale']"
      ]
     },
     "execution_count": 6,
     "metadata": {},
     "output_type": "execute_result"
    }
   ],
   "source": [
    "x.split()"
   ]
  },
  {
   "cell_type": "code",
   "execution_count": null,
   "metadata": {},
   "outputs": [],
   "source": []
  },
  {
   "cell_type": "code",
   "execution_count": 7,
   "metadata": {},
   "outputs": [],
   "source": [
    "p1 = VirtualMachine('p1')\n",
    "p2 = VirtualMachine('p2')\n",
    "p3 = VirtualMachine('p3')\n",
    "a4 = VirtualMachine('a4')\n",
    "a5 = VirtualMachine('a5')\n",
    "q = VirtualMachine('Querier')\n",
    "source = 'p2'\n",
    "destination = 'a5'\n",
    "NumberOfNodes =5"
   ]
  },
  {
   "cell_type": "code",
   "execution_count": null,
   "metadata": {},
   "outputs": [],
   "source": []
  },
  {
   "cell_type": "markdown",
   "metadata": {},
   "source": [
    "Each party has the ID of next hop to the destination, Here we suppose destination is a5 and the starting node is p2, the path is :\n",
    "p2 -> a4 -> a5"
   ]
  },
  {
   "cell_type": "code",
   "execution_count": 8,
   "metadata": {},
   "outputs": [],
   "source": [
    "nodes = []\n",
    "nodes.append(PrivateScalar(456, p1))\n",
    "nodes.append(PrivateScalar(222, p2))\n",
    "nodes.append(PrivateScalar(456, p3))\n",
    "nodes.append(PrivateScalar(222, a4))\n",
    "nodes.append(PrivateScalar(222,a5))"
   ]
  },
  {
   "cell_type": "markdown",
   "metadata": {},
   "source": [
    "Starting from p2, it shares the next-hop with MPC"
   ]
  },
  {
   "cell_type": "code",
   "execution_count": 9,
   "metadata": {},
   "outputs": [
    {
     "data": {
      "text/plain": [
       "'p3'"
      ]
     },
     "execution_count": 9,
     "metadata": {},
     "output_type": "execute_result"
    }
   ],
   "source": [
    "nodes[2].owner.name"
   ]
  },
  {
   "cell_type": "code",
   "execution_count": 25,
   "metadata": {},
   "outputs": [
    {
     "name": "stdout",
     "output_type": "stream",
     "text": [
      "[PrivateScalar(456, 'p1'), PrivateScalar(222, 'p2'), PrivateScalar(456, 'p3'), PrivateScalar(222, 'a4'), PrivateScalar(222, 'a5')]\n"
     ]
    }
   ],
   "source": [
    "print(nodes)"
   ]
  },
  {
   "cell_type": "code",
   "execution_count": 10,
   "metadata": {},
   "outputs": [],
   "source": [
    "# shared_1 = b.share([p1, p2, p3])\n",
    "shared = []\n",
    "shared.append(nodes[0].share([p1, p2, p3]))\n",
    "shared.append(nodes[1].share([p1, p2, p3]))\n",
    "shared.append(nodes[2].share([p1, p2, p3]))\n",
    "shared.append(nodes[3].share([p1, p2, p3]))\n",
    "shared.append(nodes[4].share([p1, p2, p3]))\n",
    "PrevVisited =[False,False,False,False,False]\n"
   ]
  },
  {
   "cell_type": "code",
   "execution_count": null,
   "metadata": {},
   "outputs": [],
   "source": []
  },
  {
   "cell_type": "code",
   "execution_count": 24,
   "metadata": {},
   "outputs": [
    {
     "name": "stdout",
     "output_type": "stream",
     "text": [
      "It is loop free\n",
      "Duration: 0:00:00.001997\n"
     ]
    }
   ],
   "source": [
    "start_time = datetime.now()\n",
    "visited = []\n",
    "SourceID = IDs[source]\n",
    "DestID = IDs[destination]\n",
    "visited.append(DestID)\n",
    "Flag = True\n",
    "while Flag:\n",
    "    Flag = False\n",
    "    for i in range(0,len(shared)):\n",
    "        if shared[i].reconstruct(q).value in visited:\n",
    "            temp = nodes[i].owner.name\n",
    "            nodeID = IDs.get(temp)\n",
    "            if nodeID not in visited:\n",
    "                Flag = True\n",
    "                visited.append(nodeID)\n",
    "        \n",
    "# print(visited)\n",
    "if len(visited) == NumberOfNodes:\n",
    "    print(\"It is loop free\")\n",
    "else:\n",
    "    print(\"A loop is detected\")\n",
    "end_time = datetime.now()\n",
    "print('Duration: {}'.format(end_time - start_time))"
   ]
  },
  {
   "cell_type": "code",
   "execution_count": null,
   "metadata": {},
   "outputs": [],
   "source": []
  }
 ],
 "metadata": {
  "kernelspec": {
   "display_name": "Python 3",
   "language": "python",
   "name": "python3"
  },
  "language_info": {
   "codemirror_mode": {
    "name": "ipython",
    "version": 3
   },
   "file_extension": ".py",
   "mimetype": "text/x-python",
   "name": "python",
   "nbconvert_exporter": "python",
   "pygments_lexer": "ipython3",
   "version": "3.8.3"
  }
 },
 "nbformat": 4,
 "nbformat_minor": 4
}
