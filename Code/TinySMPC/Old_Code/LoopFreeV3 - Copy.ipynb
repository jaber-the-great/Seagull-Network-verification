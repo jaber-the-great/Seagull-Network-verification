{
 "cells": [
  {
   "cell_type": "code",
   "execution_count": 21,
   "metadata": {},
   "outputs": [],
   "source": [
    "from tinysmpc import VirtualMachine, PrivateScalar, SharedScalar\n",
    "from datetime import datetime"
   ]
  },
  {
   "cell_type": "code",
   "execution_count": 22,
   "metadata": {},
   "outputs": [],
   "source": [
    "NumberOfNodes = 12\n",
    "p1 = VirtualMachine('p1')\n",
    "p2 = VirtualMachine('p2')\n",
    "p3 = VirtualMachine('p3')"
   ]
  },
  {
   "cell_type": "code",
   "execution_count": 37,
   "metadata": {},
   "outputs": [],
   "source": [
    "machines = []\n",
    "IDs = {}\n",
    "\n",
    "for i in range(NumberOfNodes):\n",
    "    name =  \"a\" + str(i)\n",
    "    machines.append(VirtualMachine(name))\n",
    "    IDs[name] = str(i)\n",
    "    \n",
    "q = VirtualMachine('Querier')\n",
    "source = 'a0'\n",
    "destination = 'a38'\n"
   ]
  },
  {
   "cell_type": "markdown",
   "metadata": {},
   "source": [
    "For old topology with 12 nodes"
   ]
  },
  {
   "cell_type": "code",
   "execution_count": 38,
   "metadata": {},
   "outputs": [
    {
     "data": {
      "text/plain": [
       "[VirtualMachine('a0')\n",
       "  - ,\n",
       " VirtualMachine('a1')\n",
       "  - ,\n",
       " VirtualMachine('a2')\n",
       "  - ,\n",
       " VirtualMachine('a3')\n",
       "  - ,\n",
       " VirtualMachine('a4')\n",
       "  - ,\n",
       " VirtualMachine('a5')\n",
       "  - ,\n",
       " VirtualMachine('a6')\n",
       "  - ,\n",
       " VirtualMachine('a7')\n",
       "  - ,\n",
       " VirtualMachine('a8')\n",
       "  - ,\n",
       " VirtualMachine('a9')\n",
       "  - ,\n",
       " VirtualMachine('a10')\n",
       "  - ,\n",
       " VirtualMachine('a11')\n",
       "  - ,\n",
       " VirtualMachine('a12')\n",
       "  - ,\n",
       " VirtualMachine('a13')\n",
       "  - ,\n",
       " VirtualMachine('a14')\n",
       "  - ,\n",
       " VirtualMachine('a15')\n",
       "  - ,\n",
       " VirtualMachine('a16')\n",
       "  - ,\n",
       " VirtualMachine('a17')\n",
       "  - ,\n",
       " VirtualMachine('a18')\n",
       "  - ,\n",
       " VirtualMachine('a19')\n",
       "  - ,\n",
       " VirtualMachine('a20')\n",
       "  - ,\n",
       " VirtualMachine('a21')\n",
       "  - ,\n",
       " VirtualMachine('a22')\n",
       "  - ,\n",
       " VirtualMachine('a23')\n",
       "  - ,\n",
       " VirtualMachine('a24')\n",
       "  - ,\n",
       " VirtualMachine('a25')\n",
       "  - ,\n",
       " VirtualMachine('a26')\n",
       "  - ,\n",
       " VirtualMachine('a27')\n",
       "  - ,\n",
       " VirtualMachine('a28')\n",
       "  - ,\n",
       " VirtualMachine('a29')\n",
       "  - ,\n",
       " VirtualMachine('a30')\n",
       "  - ,\n",
       " VirtualMachine('a31')\n",
       "  - ,\n",
       " VirtualMachine('a32')\n",
       "  - ,\n",
       " VirtualMachine('a33')\n",
       "  - ,\n",
       " VirtualMachine('a34')\n",
       "  - ,\n",
       " VirtualMachine('a35')\n",
       "  - ,\n",
       " VirtualMachine('a36')\n",
       "  - ,\n",
       " VirtualMachine('a37')\n",
       "  - ,\n",
       " VirtualMachine('a38')\n",
       "  - ,\n",
       " VirtualMachine('a39')\n",
       "  - ]"
      ]
     },
     "execution_count": 38,
     "metadata": {},
     "output_type": "execute_result"
    }
   ],
   "source": [
    "machines"
   ]
  },
  {
   "cell_type": "code",
   "execution_count": 39,
   "metadata": {},
   "outputs": [],
   "source": [
    "# nodes = []\n",
    "# nodes.append(PrivateScalar(int(IDs['a1']),machines[0]))\n",
    "# nodes.append(PrivateScalar(int(IDs['a4']),machines[1]))\n",
    "# nodes.append(PrivateScalar(int(IDs['a6']),machines[2]))\n",
    "# nodes.append(PrivateScalar(int(IDs['a5']),machines[3]))\n",
    "# nodes.append(PrivateScalar(int(IDs['a6']),machines[4]))\n",
    "# nodes.append(PrivateScalar(int(IDs['a10']),machines[5]))\n",
    "# nodes.append(PrivateScalar(int(IDs['a8']),machines[6]))\n",
    "# nodes.append(PrivateScalar(int(IDs['a9']),machines[7]))\n",
    "# nodes.append(PrivateScalar(int(IDs['a12']),machines[8]))\n",
    "# nodes.append(PrivateScalar(int(IDs['a11']),machines[9]))\n",
    "# nodes.append(PrivateScalar(int(IDs['a12']),machines[10]))\n",
    "# nodes.append(PrivateScalar(int(IDs['a12']),machines[11]))\n"
   ]
  },
  {
   "cell_type": "markdown",
   "metadata": {},
   "source": [
    "For new topology with 40 nodes"
   ]
  },
  {
   "cell_type": "code",
   "execution_count": 40,
   "metadata": {},
   "outputs": [],
   "source": [
    "nodes = []\n",
    "nodes.append(PrivateScalar(int(IDs['a5']),machines[0]))\n",
    "nodes.append(PrivateScalar(int(IDs['a31']),machines[1]))\n",
    "nodes.append(PrivateScalar(int(IDs['a22']),machines[2]))\n",
    "nodes.append(PrivateScalar(int(IDs['a0']),machines[3]))\n",
    "nodes.append(PrivateScalar(int(IDs['a37']),machines[4]))\n",
    "nodes.append(PrivateScalar(int(IDs['a36']),machines[5]))\n",
    "nodes.append(PrivateScalar(int(IDs['a28']),machines[6]))\n",
    "nodes.append(PrivateScalar(int(IDs['a0']),machines[7]))\n",
    "nodes.append(PrivateScalar(int(IDs['a5']),machines[8]))\n",
    "nodes.append(PrivateScalar(int(IDs['a0']),machines[9]))\n",
    "nodes.append(PrivateScalar(int(IDs['a29']),machines[10]))\n",
    "nodes.append(PrivateScalar(int(IDs['a2']),machines[11]))\n",
    "nodes.append(PrivateScalar(int(IDs['a10']),machines[12]))\n",
    "nodes.append(PrivateScalar(int(IDs['a11']),machines[13]))\n",
    "nodes.append(PrivateScalar(int(IDs['a12']),machines[14]))\n",
    "nodes.append(PrivateScalar(int(IDs['a12']),machines[15]))\n",
    "nodes.append(PrivateScalar(int(IDs['a18']),machines[16]))\n",
    "nodes.append(PrivateScalar(int(IDs['a26']),machines[17]))\n",
    "nodes.append(PrivateScalar(int(IDs['a22']),machines[18]))\n",
    "nodes.append(PrivateScalar(int(IDs['a9']),machines[19]))\n",
    "nodes.append(PrivateScalar(int(IDs['a25']),machines[20]))\n",
    "nodes.append(PrivateScalar(int(IDs['a15']),machines[21]))\n",
    "nodes.append(PrivateScalar(int(IDs['a14']),machines[22]))\n",
    "nodes.append(PrivateScalar(int(IDs['a24']),machines[23]))\n",
    "nodes.append(PrivateScalar(int(IDs['a19']),machines[24]))\n",
    "nodes.append(PrivateScalar(int(IDs['a17']),machines[25]))\n",
    "nodes.append(PrivateScalar(int(IDs['a6']),machines[26]))\n",
    "nodes.append(PrivateScalar(int(IDs['a18']),machines[27]))\n",
    "nodes.append(PrivateScalar(int(IDs['a38']),machines[28]))\n",
    "nodes.append(PrivateScalar(int(IDs['a31']),machines[29]))\n",
    "nodes.append(PrivateScalar(int(IDs['a35']),machines[30]))\n",
    "nodes.append(PrivateScalar(int(IDs['a32']),machines[31]))\n",
    "nodes.append(PrivateScalar(int(IDs['a28']),machines[32]))\n",
    "nodes.append(PrivateScalar(int(IDs['a32']),machines[33]))\n",
    "nodes.append(PrivateScalar(int(IDs['a3']),machines[34]))\n",
    "nodes.append(PrivateScalar(int(IDs['a17']),machines[35]))\n",
    "nodes.append(PrivateScalar(int(IDs['a26']),machines[36]))\n",
    "nodes.append(PrivateScalar(int(IDs['a38']),machines[37]))\n",
    "# nodes.append(PrivateScalar(int(IDs['a38']),machines[38]))\n",
    "nodes.append(PrivateScalar(int(IDs['a9']),machines[39]))\n"
   ]
  },
  {
   "cell_type": "code",
   "execution_count": 41,
   "metadata": {},
   "outputs": [
    {
     "name": "stdout",
     "output_type": "stream",
     "text": [
      "[PrivateScalar(5, 'a0'), PrivateScalar(31, 'a1'), PrivateScalar(22, 'a2'), PrivateScalar(0, 'a3'), PrivateScalar(37, 'a4'), PrivateScalar(36, 'a5'), PrivateScalar(28, 'a6'), PrivateScalar(0, 'a7'), PrivateScalar(5, 'a8'), PrivateScalar(0, 'a9'), PrivateScalar(29, 'a10'), PrivateScalar(2, 'a11'), PrivateScalar(10, 'a12'), PrivateScalar(11, 'a13'), PrivateScalar(12, 'a14'), PrivateScalar(12, 'a15'), PrivateScalar(18, 'a16'), PrivateScalar(26, 'a17'), PrivateScalar(22, 'a18'), PrivateScalar(9, 'a19'), PrivateScalar(25, 'a20'), PrivateScalar(15, 'a21'), PrivateScalar(14, 'a22'), PrivateScalar(24, 'a23'), PrivateScalar(19, 'a24'), PrivateScalar(17, 'a25'), PrivateScalar(6, 'a26'), PrivateScalar(18, 'a27'), PrivateScalar(38, 'a28'), PrivateScalar(31, 'a29'), PrivateScalar(35, 'a30'), PrivateScalar(32, 'a31'), PrivateScalar(28, 'a32'), PrivateScalar(32, 'a33'), PrivateScalar(3, 'a34'), PrivateScalar(17, 'a35'), PrivateScalar(26, 'a36'), PrivateScalar(38, 'a37'), PrivateScalar(9, 'a39')]\n"
     ]
    }
   ],
   "source": [
    "print(nodes)"
   ]
  },
  {
   "cell_type": "code",
   "execution_count": 42,
   "metadata": {},
   "outputs": [],
   "source": [
    "shared = []\n",
    "for i in range(len(nodes)):\n",
    "    shared.append(nodes[i].share([p1, p2, p3]))"
   ]
  },
  {
   "cell_type": "code",
   "execution_count": 43,
   "metadata": {},
   "outputs": [
    {
     "name": "stdout",
     "output_type": "stream",
     "text": [
      "['38']\n",
      "A loop is detected\n",
      "Duration: 0:00:00.003000\n"
     ]
    }
   ],
   "source": [
    "start_time = datetime.now()\n",
    "visited = []\n",
    "SourceID = IDs[source]\n",
    "DestID = IDs[destination]\n",
    "visited.append(DestID)\n",
    "Flag = True\n",
    "while Flag:\n",
    "    Flag = False\n",
    "    for i in range(0,len(shared)):\n",
    "        \n",
    "        if shared[i].reconstruct(q).value in visited:\n",
    "            print(\"entered the loop\")\n",
    "            temp = nodes[i].owner.name\n",
    "            \n",
    "            nodeID = IDs.get(temp)\n",
    "            if nodeID not in visited:\n",
    "                Flag = True\n",
    "                visited.append(nodeID)\n",
    "        \n",
    "print(visited)\n",
    "if len(visited) == NumberOfNodes:\n",
    "    print(\"It is loop free\")\n",
    "else:\n",
    "    print(\"A loop is detected\")\n",
    "end_time = datetime.now()\n",
    "print('Duration: {}'.format(end_time - start_time))"
   ]
  },
  {
   "cell_type": "code",
   "execution_count": null,
   "metadata": {},
   "outputs": [],
   "source": []
  }
 ],
 "metadata": {
  "kernelspec": {
   "display_name": "Python 3",
   "language": "python",
   "name": "python3"
  },
  "language_info": {
   "codemirror_mode": {
    "name": "ipython",
    "version": 3
   },
   "file_extension": ".py",
   "mimetype": "text/x-python",
   "name": "python",
   "nbconvert_exporter": "python",
   "pygments_lexer": "ipython3",
   "version": "3.8.3"
  }
 },
 "nbformat": 4,
 "nbformat_minor": 4
}
