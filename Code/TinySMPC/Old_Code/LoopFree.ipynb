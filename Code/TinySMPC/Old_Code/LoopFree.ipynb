{
 "cells": [
  {
   "cell_type": "code",
   "execution_count": 3,
   "metadata": {},
   "outputs": [],
   "source": [
    "from tinysmpc import VirtualMachine, PrivateScalar, SharedScalar"
   ]
  },
  {
   "cell_type": "raw",
   "metadata": {},
   "source": [
    "Create a dictionary for mapping routers with a unique ID"
   ]
  },
  {
   "cell_type": "code",
   "execution_count": 4,
   "metadata": {},
   "outputs": [],
   "source": [
    "IDs = {\"p1\": 123, \"p2\":456, \"p3\":789, \"a4\":111,\"a5\":222}\n",
    "mapping = [123,456,789,111,222]\n",
    "PrevVisited =[False,False,False,False,False]"
   ]
  },
  {
   "cell_type": "code",
   "execution_count": 90,
   "metadata": {},
   "outputs": [
    {
     "name": "stdout",
     "output_type": "stream",
     "text": [
      "jaber\n"
     ]
    }
   ],
   "source": [
    "if not PrevVisited[3]:\n",
    "    print(\"jaber\")"
   ]
  },
  {
   "cell_type": "markdown",
   "metadata": {},
   "source": [
    "We add three parties among the ASes and the other parties are other ASes. The querie has a separate node too."
   ]
  },
  {
   "cell_type": "code",
   "execution_count": 81,
   "metadata": {},
   "outputs": [],
   "source": [
    "p1 = VirtualMachine('party 1')\n",
    "p2 = VirtualMachine('party 2')\n",
    "p3 = VirtualMachine('party 3')\n",
    "a4 = VirtualMachine('AS 4')\n",
    "a5 = VirtualMachine('AS 5')\n",
    "q = VirtualMachine('Querier')\n",
    "source = 'p2'\n",
    "destination = 'a5'"
   ]
  },
  {
   "cell_type": "markdown",
   "metadata": {},
   "source": [
    "Each party has the ID of next hop to the destination, Here we suppose destination is a5 and the starting node is p2, the path is :\n",
    "p2 -> a4 -> a5"
   ]
  },
  {
   "cell_type": "code",
   "execution_count": 82,
   "metadata": {},
   "outputs": [],
   "source": [
    "a = PrivateScalar(456, p1)\n",
    "b = PrivateScalar(111, p2)\n",
    "c = PrivateScalar(456, p3)\n",
    "d = PrivateScalar(222, a4)\n",
    "e = PrivateScalar(222,a5)"
   ]
  },
  {
   "cell_type": "markdown",
   "metadata": {},
   "source": [
    "Starting from p2, it shares the next-hop with MPC"
   ]
  },
  {
   "cell_type": "code",
   "execution_count": null,
   "metadata": {},
   "outputs": [],
   "source": []
  },
  {
   "cell_type": "code",
   "execution_count": 126,
   "metadata": {},
   "outputs": [],
   "source": [
    "# shared_1 = b.share([p1, p2, p3])\n",
    "shared = []\n",
    "shared.append(a.share([p1, p2, p3]))\n",
    "shared.append(b.share([p1, p2, p3]))\n",
    "shared.append(c.share([p1, p2, p3]))\n",
    "shared.append(d.share([p1, p2, p3]))\n",
    "shared.append(e.share([p1, p2, p3]))\n",
    "PrevVisited =[False,False,False,False,False]\n",
    "# temp =shared_1.reconstruct(q).value\n",
    "# visited.append(temp)\n",
    "# temp = shared[1].reconstruct(q).value"
   ]
  },
  {
   "cell_type": "code",
   "execution_count": 2,
   "metadata": {},
   "outputs": [
    {
     "ename": "NameError",
     "evalue": "name 'a' is not defined",
     "output_type": "error",
     "traceback": [
      "\u001b[1;31m---------------------------------------------------------------------------\u001b[0m",
      "\u001b[1;31mNameError\u001b[0m                                 Traceback (most recent call last)",
      "\u001b[1;32m<ipython-input-2-3f786850e387>\u001b[0m in \u001b[0;36m<module>\u001b[1;34m\u001b[0m\n\u001b[1;32m----> 1\u001b[1;33m \u001b[0ma\u001b[0m\u001b[1;33m\u001b[0m\u001b[1;33m\u001b[0m\u001b[0m\n\u001b[0m",
      "\u001b[1;31mNameError\u001b[0m: name 'a' is not defined"
     ]
    }
   ],
   "source": []
  },
  {
   "cell_type": "code",
   "execution_count": 123,
   "metadata": {},
   "outputs": [
    {
     "name": "stdout",
     "output_type": "stream",
     "text": [
      "The pathe to a5 is loop free\n"
     ]
    }
   ],
   "source": [
    "visited = []\n",
    "SourceID = IDs[source]\n",
    "DestID = IDs[destination]\n",
    "temp = SourceID\n",
    "\n",
    "visited.append(temp)\n",
    "if temp == DestID or PrevVisited[mapping.index(temp)]:\n",
    "    print(\"The pathe to \" + destination + \" is loop free\")\n",
    "else:\n",
    "    for i in range(15):\n",
    "        index = mapping.index(temp)\n",
    "        temp = shared[index].reconstruct(q).value\n",
    "        if temp == DestID or PrevVisited[mapping.index(temp)]==True:\n",
    "            for x in visited:\n",
    "                PrevVisited[mapping.index(x)] = True\n",
    "            print(\"The pathe to \" + destination + \" is loop free\")\n",
    "            break\n",
    "        if temp in visited:\n",
    "            print(\"A loop is found\")\n",
    "            break\n",
    "        visited.append(temp)"
   ]
  },
  {
   "cell_type": "markdown",
   "metadata": {},
   "source": [
    "If sum of shares is equal to NumberOfASes * 100 --> then we have reachability"
   ]
  },
  {
   "cell_type": "code",
   "execution_count": 124,
   "metadata": {
    "scrolled": true
   },
   "outputs": [
    {
     "name": "stdout",
     "output_type": "stream",
     "text": [
      "[456, 111]\n"
     ]
    },
    {
     "data": {
      "text/plain": [
       "[False, True, False, True, False]"
      ]
     },
     "execution_count": 124,
     "metadata": {},
     "output_type": "execute_result"
    }
   ],
   "source": [
    "print(visited)\n",
    "PrevVisited"
   ]
  },
  {
   "cell_type": "code",
   "execution_count": null,
   "metadata": {},
   "outputs": [],
   "source": []
  },
  {
   "cell_type": "code",
   "execution_count": 47,
   "metadata": {},
   "outputs": [
    {
     "name": "stdout",
     "output_type": "stream",
     "text": [
      "A loop is found\n"
     ]
    }
   ],
   "source": [
    "# while True:\n",
    "    \n",
    "#     if temp == 123:\n",
    "#         shared_a = a.share([p1, p2, p3])\n",
    "#         temp =shared_a.reconstruct(q).value\n",
    "#     elif temp == 456:\n",
    "#         shared_b = b.share([p1, p2, p3])\n",
    "#         temp =shared_b.reconstruct(q).value\n",
    "#     elif temp == 789:\n",
    "#         shared_c = c.share([p1, p2, p3])\n",
    "#         temp =shared_c.reconstruct(q).value\n",
    "#     elif temp == 111:\n",
    "#         shared_d = d.share([p1, p2, p3])\n",
    "#         temp =shared_d.reconstruct(q).value\n",
    "#     elif temp == 222:\n",
    "#         print(\"The path to a4 is loop free\")\n",
    "#         break\n",
    "#     if temp in visited:\n",
    "#         print(\"A loop is found\")\n",
    "#         break\n",
    "#     visited.append(temp)"
   ]
  },
  {
   "cell_type": "code",
   "execution_count": null,
   "metadata": {},
   "outputs": [],
   "source": []
  },
  {
   "cell_type": "code",
   "execution_count": null,
   "metadata": {},
   "outputs": [],
   "source": []
  }
 ],
 "metadata": {
  "kernelspec": {
   "display_name": "Python 3",
   "language": "python",
   "name": "python3"
  },
  "language_info": {
   "codemirror_mode": {
    "name": "ipython",
    "version": 3
   },
   "file_extension": ".py",
   "mimetype": "text/x-python",
   "name": "python",
   "nbconvert_exporter": "python",
   "pygments_lexer": "ipython3",
   "version": "3.8.3"
  }
 },
 "nbformat": 4,
 "nbformat_minor": 4
}
