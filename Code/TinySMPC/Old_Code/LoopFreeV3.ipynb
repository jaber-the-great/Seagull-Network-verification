{
 "cells": [
  {
   "cell_type": "code",
   "execution_count": 1,
   "metadata": {},
   "outputs": [],
   "source": [
    "from tinysmpc import VirtualMachine, PrivateScalar, SharedScalar\n",
    "from datetime import datetime"
   ]
  },
  {
   "cell_type": "code",
   "execution_count": 2,
   "metadata": {},
   "outputs": [],
   "source": [
    "NumberOfNodes = 40\n",
    "p1 = VirtualMachine('p1')\n",
    "p2 = VirtualMachine('p2')\n",
    "p3 = VirtualMachine('p3')"
   ]
  },
  {
   "cell_type": "code",
   "execution_count": 3,
   "metadata": {},
   "outputs": [],
   "source": [
    "machines = []\n",
    "IDs = {}\n",
    "for i in range(NumberOfNodes):\n",
    "    name =  \"a\" + str(i) # for prev version needs i +1\n",
    "    machines.append(VirtualMachine(name))\n",
    "    IDs[name] = str(i*3)\n",
    "    \n",
    "q = VirtualMachine('Querier')\n",
    "source = 'a1'\n",
    "destination = 'a38'"
   ]
  },
  {
   "cell_type": "code",
   "execution_count": 4,
   "metadata": {},
   "outputs": [],
   "source": [
    "# p1 = VirtualMachine('p1')\n",
    "# p2 = VirtualMachine('p2')\n",
    "# p3 = VirtualMachine('p3')\n",
    "# a1 = VirtualMachine('a1')\n",
    "# a2 = VirtualMachine('a2')\n",
    "# a3 = VirtualMachine('a3')\n",
    "# a4 = VirtualMachine('a4')\n",
    "# a5 = VirtualMachine('a5')\n",
    "# a6 = VirtualMachine('a6')\n",
    "# a7 = VirtualMachine('a7')\n",
    "# a8 = VirtualMachine('a8')\n",
    "# a9 = VirtualMachine('a9')\n",
    "# a10 = VirtualMachine('a10')\n",
    "# a11 = VirtualMachine('a11')\n",
    "# a12 = VirtualMachine('a12')\n",
    "# q = VirtualMachine('Querier')\n",
    "# source = 'a1'\n",
    "# destination = 'a12'\n",
    "# NumberOfNodes = 12"
   ]
  },
  {
   "cell_type": "markdown",
   "metadata": {},
   "source": [
    "For old topology with 12 nodes"
   ]
  },
  {
   "cell_type": "code",
   "execution_count": 5,
   "metadata": {},
   "outputs": [
    {
     "data": {
      "text/plain": [
       "{'a0': '0',\n",
       " 'a1': '3',\n",
       " 'a2': '6',\n",
       " 'a3': '9',\n",
       " 'a4': '12',\n",
       " 'a5': '15',\n",
       " 'a6': '18',\n",
       " 'a7': '21',\n",
       " 'a8': '24',\n",
       " 'a9': '27',\n",
       " 'a10': '30',\n",
       " 'a11': '33',\n",
       " 'a12': '36',\n",
       " 'a13': '39',\n",
       " 'a14': '42',\n",
       " 'a15': '45',\n",
       " 'a16': '48',\n",
       " 'a17': '51',\n",
       " 'a18': '54',\n",
       " 'a19': '57',\n",
       " 'a20': '60',\n",
       " 'a21': '63',\n",
       " 'a22': '66',\n",
       " 'a23': '69',\n",
       " 'a24': '72',\n",
       " 'a25': '75',\n",
       " 'a26': '78',\n",
       " 'a27': '81',\n",
       " 'a28': '84',\n",
       " 'a29': '87',\n",
       " 'a30': '90',\n",
       " 'a31': '93',\n",
       " 'a32': '96',\n",
       " 'a33': '99',\n",
       " 'a34': '102',\n",
       " 'a35': '105',\n",
       " 'a36': '108',\n",
       " 'a37': '111',\n",
       " 'a38': '114',\n",
       " 'a39': '117'}"
      ]
     },
     "execution_count": 5,
     "metadata": {},
     "output_type": "execute_result"
    }
   ],
   "source": [
    "# machines\n",
    "# IDs = {'a1':11,'a2':22, 'a3':33,'a4':44,'a5':55, 'a6':66,'a7':77,'a8':88, 'a9':99,'a10':1010,'a11':1111, 'a12':1212,}\n",
    "IDs"
   ]
  },
  {
   "cell_type": "code",
   "execution_count": 6,
   "metadata": {},
   "outputs": [],
   "source": [
    "\n",
    "# nodes = []\n",
    "# nodes.append(PrivateScalar(int(IDs['a2']),machines[0]))\n",
    "# nodes.append(PrivateScalar(int(IDs['a4']),machines[1]))\n",
    "# nodes.append(PrivateScalar(int(IDs['a6']),machines[2]))\n",
    "# nodes.append(PrivateScalar(int(IDs['a5']),machines[3]))\n",
    "# nodes.append(PrivateScalar(int(IDs['a6']),machines[4]))\n",
    "# nodes.append(PrivateScalar(int(IDs['a10']),machines[5]))\n",
    "# nodes.append(PrivateScalar(int(IDs['a8']),machines[6]))\n",
    "# nodes.append(PrivateScalar(int(IDs['a9']),machines[7]))\n",
    "# nodes.append(PrivateScalar(int(IDs['a12']),machines[8]))\n",
    "# nodes.append(PrivateScalar(int(IDs['a11']),machines[9]))\n",
    "# nodes.append(PrivateScalar(int(IDs['a12']),machines[10]))\n",
    "# nodes.append(PrivateScalar(int(IDs['a12']),machines[11]))\n",
    "# nodes.append(PrivateScalar(22,a1))\n",
    "# nodes.append(PrivateScalar(44,a2))\n",
    "# nodes.append(PrivateScalar(66,a3))\n",
    "# # nodes.append(PrivateScalar(11,a4))\n",
    "# nodes.append(PrivateScalar(55,a4))\n",
    "# nodes.append(PrivateScalar(66,a5))\n",
    "# nodes.append(PrivateScalar(1010,a6))\n",
    "# nodes.append(PrivateScalar(88,a7))\n",
    "# nodes.append(PrivateScalar(99,a8))\n",
    "# nodes.append(PrivateScalar(1212,a9))\n",
    "# nodes.append(PrivateScalar(1111,a10))\n",
    "# nodes.append(PrivateScalar(1212,a11))\n",
    "# nodes.append(PrivateScalar(1212,a12))\n"
   ]
  },
  {
   "cell_type": "markdown",
   "metadata": {},
   "source": [
    "For new topology with 40 nodes"
   ]
  },
  {
   "cell_type": "code",
   "execution_count": 11,
   "metadata": {},
   "outputs": [],
   "source": [
    "nodes = []\n",
    "nodes.append(PrivateScalar(int(IDs['a5']),machines[0]))\n",
    "nodes.append(PrivateScalar(int(IDs['a31']),machines[1]))\n",
    "nodes.append(PrivateScalar(int(IDs['a22']),machines[2]))\n",
    "nodes.append(PrivateScalar(int(IDs['a0']),machines[3]))\n",
    "nodes.append(PrivateScalar(int(IDs['a37']),machines[4]))\n",
    "nodes.append(PrivateScalar(int(IDs['a36']),machines[5]))\n",
    "nodes.append(PrivateScalar(int(IDs['a28']),machines[6]))\n",
    "nodes.append(PrivateScalar(int(IDs['a0']),machines[7]))\n",
    "nodes.append(PrivateScalar(int(IDs['a5']),machines[8]))\n",
    "nodes.append(PrivateScalar(int(IDs['a0']),machines[9]))\n",
    "nodes.append(PrivateScalar(int(IDs['a29']),machines[10]))\n",
    "nodes.append(PrivateScalar(int(IDs['a2']),machines[11]))\n",
    "nodes.append(PrivateScalar(int(IDs['a10']),machines[12]))\n",
    "nodes.append(PrivateScalar(int(IDs['a11']),machines[13]))\n",
    "nodes.append(PrivateScalar(int(IDs['a12']),machines[14]))\n",
    "nodes.append(PrivateScalar(int(IDs['a12']),machines[15]))\n",
    "nodes.append(PrivateScalar(int(IDs['a18']),machines[16]))\n",
    "nodes.append(PrivateScalar(int(IDs['a26']),machines[17]))\n",
    "nodes.append(PrivateScalar(int(IDs['a22']),machines[18]))\n",
    "nodes.append(PrivateScalar(int(IDs['a9']),machines[19]))\n",
    "nodes.append(PrivateScalar(int(IDs['a25']),machines[20]))\n",
    "nodes.append(PrivateScalar(int(IDs['a15']),machines[21]))\n",
    "nodes.append(PrivateScalar(int(IDs['a14']),machines[22]))\n",
    "nodes.append(PrivateScalar(int(IDs['a24']),machines[23]))\n",
    "nodes.append(PrivateScalar(int(IDs['a19']),machines[24]))\n",
    "nodes.append(PrivateScalar(int(IDs['a17']),machines[25]))\n",
    "nodes.append(PrivateScalar(int(IDs['a6']),machines[26]))\n",
    "nodes.append(PrivateScalar(int(IDs['a18']),machines[27]))\n",
    "nodes.append(PrivateScalar(int(IDs['a38']),machines[28]))\n",
    "nodes.append(PrivateScalar(int(IDs['a31']),machines[29]))\n",
    "nodes.append(PrivateScalar(int(IDs['a35']),machines[30]))\n",
    "nodes.append(PrivateScalar(int(IDs['a32']),machines[31]))\n",
    "nodes.append(PrivateScalar(int(IDs['a28']),machines[32]))\n",
    "nodes.append(PrivateScalar(int(IDs['a32']),machines[33]))\n",
    "nodes.append(PrivateScalar(int(IDs['a3']),machines[34]))\n",
    "nodes.append(PrivateScalar(int(IDs['a17']),machines[35]))\n",
    "nodes.append(PrivateScalar(int(IDs['a26']),machines[36]))\n",
    "nodes.append(PrivateScalar(int(IDs['a38']),machines[37]))\n",
    "nodes.append(PrivateScalar(int(IDs['a38']),machines[38]))\n",
    "nodes.append(PrivateScalar(int(IDs['a9']),machines[39]))\n"
   ]
  },
  {
   "cell_type": "code",
   "execution_count": 12,
   "metadata": {},
   "outputs": [
    {
     "name": "stdout",
     "output_type": "stream",
     "text": [
      "[PrivateScalar(15, 'a0'), PrivateScalar(93, 'a1'), PrivateScalar(66, 'a2'), PrivateScalar(0, 'a3'), PrivateScalar(111, 'a4'), PrivateScalar(108, 'a5'), PrivateScalar(84, 'a6'), PrivateScalar(0, 'a7'), PrivateScalar(15, 'a8'), PrivateScalar(0, 'a9'), PrivateScalar(87, 'a10'), PrivateScalar(6, 'a11'), PrivateScalar(30, 'a12'), PrivateScalar(33, 'a13'), PrivateScalar(36, 'a14'), PrivateScalar(36, 'a15'), PrivateScalar(54, 'a16'), PrivateScalar(78, 'a17'), PrivateScalar(66, 'a18'), PrivateScalar(27, 'a19'), PrivateScalar(75, 'a20'), PrivateScalar(45, 'a21'), PrivateScalar(42, 'a22'), PrivateScalar(72, 'a23'), PrivateScalar(57, 'a24'), PrivateScalar(51, 'a25'), PrivateScalar(18, 'a26'), PrivateScalar(54, 'a27'), PrivateScalar(114, 'a28'), PrivateScalar(93, 'a29'), PrivateScalar(105, 'a30'), PrivateScalar(96, 'a31'), PrivateScalar(84, 'a32'), PrivateScalar(96, 'a33'), PrivateScalar(9, 'a34'), PrivateScalar(51, 'a35'), PrivateScalar(78, 'a36'), PrivateScalar(114, 'a37'), PrivateScalar(114, 'a38'), PrivateScalar(27, 'a39')]\n"
     ]
    }
   ],
   "source": [
    "print(nodes)"
   ]
  },
  {
   "cell_type": "code",
   "execution_count": 13,
   "metadata": {},
   "outputs": [],
   "source": [
    "shared = []\n",
    "for i in range(len(nodes)):\n",
    "    shared.append(nodes[i].share([p1, p2, p3]))"
   ]
  },
  {
   "cell_type": "code",
   "execution_count": 21,
   "metadata": {},
   "outputs": [
    {
     "name": "stdout",
     "output_type": "stream",
     "text": [
      "['114']\n",
      "It is loop free\n",
      "Duration: 0:00:00.010998\n"
     ]
    }
   ],
   "source": [
    "start_time = datetime.now()\n",
    "visited = []\n",
    "SourceID = IDs[source]\n",
    "DestID = IDs[destination]\n",
    "visited.append(DestID)\n",
    "print(visited)\n",
    "Flag = True\n",
    "while Flag:\n",
    "    Flag = False\n",
    "    for i in range(0,len(shared)):\n",
    "\n",
    "        if str(shared[i].reconstruct(q).value) in visited:\n",
    "            temp = nodes[i].owner.name\n",
    "            nodeID = IDs.get(temp)\n",
    "            if nodeID not in visited:\n",
    "                Flag = True\n",
    "                visited.append(nodeID)\n",
    "        \n",
    "# print(visited)\n",
    "if len(visited) == NumberOfNodes:\n",
    "    print(\"It is loop free\")\n",
    "else:\n",
    "    print(\"A loop is detected\")\n",
    "end_time = datetime.now()\n",
    "print('Duration: {}'.format(end_time - start_time))"
   ]
  },
  {
   "cell_type": "code",
   "execution_count": null,
   "metadata": {},
   "outputs": [],
   "source": []
  },
  {
   "cell_type": "code",
   "execution_count": null,
   "metadata": {},
   "outputs": [],
   "source": []
  }
 ],
 "metadata": {
  "kernelspec": {
   "display_name": "Python 3",
   "language": "python",
   "name": "python3"
  },
  "language_info": {
   "codemirror_mode": {
    "name": "ipython",
    "version": 3
   },
   "file_extension": ".py",
   "mimetype": "text/x-python",
   "name": "python",
   "nbconvert_exporter": "python",
   "pygments_lexer": "ipython3",
   "version": "3.8.3"
  }
 },
 "nbformat": 4,
 "nbformat_minor": 4
}
