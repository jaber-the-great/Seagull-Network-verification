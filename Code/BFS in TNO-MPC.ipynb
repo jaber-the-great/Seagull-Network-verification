{
 "cells": [
  {
   "cell_type": "code",
   "execution_count": 1,
   "id": "bcdd8ebb",
   "metadata": {},
   "outputs": [],
   "source": [
    "from collections import defaultdict, deque\n",
    "from tno.mpc.encryption_schemes.shamir import ShamirSecretSharingScheme, ShamirShares\n",
    "from copy import deepcopy"
   ]
  },
  {
   "cell_type": "code",
   "execution_count": 33,
   "id": "90bafb30",
   "metadata": {},
   "outputs": [],
   "source": [
    "def secure_bfs(edge_list, destination_node):\n",
    "\n",
    "    # Build a reversed adjacency list for the graph\n",
    "    rev_adj_list = defaultdict(list)\n",
    "    incoming_count = defaultdict(int)\n",
    "\n",
    "    for u, v in edge_list:\n",
    "        rev_adj_list[v].append(u)  # Reverse the direction of the edges\n",
    "        incoming_count[u] += 1\n",
    "\n",
    "    queue = [destination_node]  # Start BFS from the destination node\n",
    "\n",
    "    while queue:\n",
    "        current_node = queue.pop(0)\n",
    "\n",
    "        for neighbor in rev_adj_list[current_node]:\n",
    "            incoming_count[neighbor] -= 1\n",
    "            if incoming_count[neighbor] == 0:\n",
    "                queue.append(neighbor)\n",
    "\n",
    "    return any(incoming_count[node] > 0 for node in rev_adj_list)\n",
    "\n",
    "def secure_bfs_with_decrypted_destination_nodes(edge_list, destination_node):\n",
    "\n",
    "    # Build a reversed adjacency list for the graph\n",
    "    rev_adj_list = defaultdict(list)\n",
    "    incoming_count = defaultdict(int)\n",
    "\n",
    "    for u, v in edge_list:\n",
    "        rev_adj_list[v].append(u)  # Reverse the direction of the edges\n",
    "        incoming_count[u] += 1\n",
    "\n",
    "    for edge in edge_list:\n",
    "        if edge[1].reconstruct_secret() == destination_node:\n",
    "            queue = [edge[1]]  # Start BFS from the destination node\n",
    "            break\n",
    "\n",
    "    while queue:\n",
    "        current_node = queue.pop(0)\n",
    "\n",
    "        for neighbor in rev_adj_list[current_node]:\n",
    "            incoming_count[neighbor] -= 1\n",
    "            if incoming_count[neighbor] == 0:\n",
    "                queue.append(neighbor)\n",
    "\n",
    "    return any(incoming_count[node] > 0 for node in rev_adj_list)\n",
    "\n",
    "def create_shared_edge_list(scheme, edges):\n",
    "    p_s_list = {}\n",
    "    edge_list = []\n",
    "    for edge in edges:\n",
    "        tmp = []\n",
    "        for node in edge:\n",
    "            if not node in p_s_list:\n",
    "                p_s_list[node] = scheme.share_secret(node)\n",
    "                tmp.append(p_s_list[node])\n",
    "            else:\n",
    "                tmp.append(p_s_list[node])\n",
    "        edge_list.append(tuple(tmp))\n",
    "    \n",
    "    return edge_list, p_s_list\n",
    "\n",
    "def create_shared_test(scheme, test):\n",
    "    shared_test = []\n",
    "    for question in test:\n",
    "        tmp = []\n",
    "        s_question, p_s_list = create_shared_edge_list(scheme, question[0])\n",
    "        tmp.append(s_question)\n",
    "        tmp.append(p_s_list[question[1]])\n",
    "        shared_test.append(tuple(tmp))\n",
    "    \n",
    "    return shared_test\n",
    "\n",
    "def test_alg(algorithm, test, answers):\n",
    "    res = []\n",
    "    for question in test:\n",
    "        res.append(algorithm(question[0], question[1]))\n",
    "    return res, answers\n",
    "\n",
    "def decrypt_destination_nodes(shared_test, test):\n",
    "    modified_shared_test = []\n",
    "    for i in range(len(shared_test)):\n",
    "        tmp = []\n",
    "        tmp.append(deepcopy(shared_test[i][0]))\n",
    "        tmp.append(test[i][1])\n",
    "        modified_shared_test.append(tuple(tmp))\n",
    "\n",
    "    return modified_shared_test"
   ]
  },
  {
   "cell_type": "code",
   "execution_count": 34,
   "id": "87722496",
   "metadata": {},
   "outputs": [],
   "source": [
    "shamir_scheme = ShamirSecretSharingScheme(10657, 3, 2)\n"
   ]
  },
  {
   "cell_type": "code",
   "execution_count": 35,
   "id": "6a8ab144",
   "metadata": {},
   "outputs": [],
   "source": [
    "test = [\n",
    "    ([(1, 2), (2, 3), (3, 4), (3, 1)], 4),\n",
    "    ([(1, 2), (2, 3), (3, 4), (1, 3)], 4),\n",
    "    ([(1, 2), (2, 3)], 3),\n",
    "    ([(1, 2), (1, 5), (5, 6), (6, 1), (2, 3), (3, 4)], 4),\n",
    "    ([(1, 2), (2, 3), (3, 4), (4, 5)], 5),\n",
    "    ([(1, 2), (2, 3), (3, 4), (4, 5), (1, 3)], 5),\n",
    "    ([(1, 2), (2, 3), (3, 4), (4, 5), (3, 1)], 5),\n",
    "]\n",
    "answers = (True, False, False, True, False, False, True)"
   ]
  },
  {
   "cell_type": "code",
   "execution_count": 36,
   "id": "8dd4c5ff",
   "metadata": {},
   "outputs": [
    {
     "data": {
      "text/plain": [
       "(7, 7)"
      ]
     },
     "execution_count": 36,
     "metadata": {},
     "output_type": "execute_result"
    }
   ],
   "source": [
    "p_test = create_shared_test(shamir_scheme, test)\n",
    "d_test = decrypt_destination_nodes(p_test, test)\n",
    "len(p_test), len(d_test)"
   ]
  },
  {
   "cell_type": "code",
   "execution_count": 37,
   "id": "33a87a36",
   "metadata": {},
   "outputs": [
    {
     "data": {
      "text/plain": [
       "([True, False, False, True, False, False, True],\n",
       " (True, False, False, True, False, False, True))"
      ]
     },
     "execution_count": 37,
     "metadata": {},
     "output_type": "execute_result"
    }
   ],
   "source": [
    "test_alg(secure_bfs, test, answers)"
   ]
  },
  {
   "cell_type": "code",
   "execution_count": 38,
   "id": "05d71fe2",
   "metadata": {},
   "outputs": [
    {
     "data": {
      "text/plain": [
       "([True, False, False, True, False, False, True],\n",
       " (True, False, False, True, False, False, True))"
      ]
     },
     "execution_count": 38,
     "metadata": {},
     "output_type": "execute_result"
    }
   ],
   "source": [
    "test_alg(secure_bfs, p_test, answers)"
   ]
  },
  {
   "cell_type": "code",
   "execution_count": null,
   "id": "406b6bc5",
   "metadata": {},
   "outputs": [],
   "source": [
    "d_test[0][0][0][0] == test[0][0][0][0]"
   ]
  },
  {
   "cell_type": "code",
   "execution_count": 40,
   "id": "35f7445d",
   "metadata": {},
   "outputs": [
    {
     "data": {
      "text/plain": [
       "([True, False, False, True, False, False, True],\n",
       " (True, False, False, True, False, False, True))"
      ]
     },
     "execution_count": 40,
     "metadata": {},
     "output_type": "execute_result"
    }
   ],
   "source": [
    "test_alg(secure_bfs_with_decrypted_destination_nodes, d_test, answers)"
   ]
  },
  {
   "cell_type": "code",
   "execution_count": null,
   "id": "c4c676f6",
   "metadata": {},
   "outputs": [],
   "source": []
  }
 ],
 "metadata": {
  "kernelspec": {
   "display_name": "scienceFair2021",
   "language": "python",
   "name": "sciencefair2021"
  },
  "language_info": {
   "codemirror_mode": {
    "name": "ipython",
    "version": 3
   },
   "file_extension": ".py",
   "mimetype": "text/x-python",
   "name": "python",
   "nbconvert_exporter": "python",
   "pygments_lexer": "ipython3",
   "version": "3.9.7"
  }
 },
 "nbformat": 4,
 "nbformat_minor": 5
}
